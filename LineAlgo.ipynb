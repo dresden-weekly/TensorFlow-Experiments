{
 "cells": [
  {
   "cell_type": "code",
   "execution_count": null,
   "metadata": {
    "collapsed": false,
    "scrolled": false
   },
   "outputs": [],
   "source": [
    "import numpy as np\n",
    "import operator\n",
    "import math\n",
    "from functools import reduce\n",
    "\n",
    "def aline(s, e, cb):\n",
    "    def _fpart(x):\n",
    "        return x - math.floor(x)\n",
    "    def _rfpart(x):\n",
    "        return 1 - _fpart(x)\n",
    "    \n",
    "    diff = [abs(j-i) for (j, i) in zip(e, s)]\n",
    "    maxd = max(diff)\n",
    "    if maxd <= 0: return\n",
    "    maxi = np.argmax(diff)\n",
    "    sign = int(np.sign(e[maxi] - s[maxi]))\n",
    "    grad = [(j-i) / maxd for (j, i) in zip(e, s)]\n",
    "    sv = np.zeros_like(s)\n",
    "    sv[maxi] = sign\n",
    "    \n",
    "    if sign < 0: (s, e) = (s + sv, e + sv) \n",
    "    sf = _rfpart(s[maxi]) if sign > 0 else _fpart(s[maxi])\n",
    "    q = (s + np.multiply(grad, sf))\n",
    "    sq = (s - np.multiply(sv, 1-sf))\n",
    "\n",
    "    ef = _rfpart(e[maxi]) if sign > 0 else _fpart(e[maxi])\n",
    "    qe = (e - np.multiply(grad, 1 - ef))\n",
    "    eq = (e + np.multiply(sv, ef))\n",
    "    \n",
    "    #print(sf)\n",
    "    #print(q)\n",
    "    print(qe)\n",
    "    \n",
    "    for n in range(2**len(s)):\n",
    "        if n & (2**maxi): continue\n",
    "        nd = [0 != (n & (2**a)) for a in range(len(s))]\n",
    "        o = reduce(operator.mul, \n",
    "                   [_fpart(v) if b else _rfpart(v) for (v, b) in zip(sq, nd)])\n",
    "        if o == 0: continue\n",
    "        cb(tuple((sq + nd).astype(int)), o * sf)\n",
    "\n",
    "    for _ in range(int(q[maxi]), int(qe[maxi] + sign), sign):\n",
    "        for n in range(2**len(q)):\n",
    "            if n & (2**maxi): continue\n",
    "            nd = [0 != n & (2**a) for a in range(len(q))]\n",
    "            o = reduce(operator.mul, \n",
    "                       [_fpart(v) if b else _rfpart(v) for (v, b) in zip(q, nd)])\n",
    "            if o == 0: continue\n",
    "            cb(tuple((q + nd).astype(int)), o)\n",
    "        q = np.add(q, grad)\n",
    "\n",
    "    for n in range(2**len(e)):\n",
    "        if n & (2**maxi): continue\n",
    "        nd = [0 != (n & (2**a)) for a in range(len(e))]\n",
    "        o = -reduce(operator.mul, \n",
    "                   [_fpart(v) if b else _rfpart(v) for (v, b) in zip(qe, nd)])\n",
    "        if o == 0: continue\n",
    "        cb(tuple((qe + nd).astype(int)), o * ef)\n",
    "\n",
    "picture = np.zeros((2, 10, 10))\n",
    "def pixel(p, a):\n",
    "    try:\n",
    "        picture[p] += a\n",
    "    except IndexError:\n",
    "        pass\n",
    "\n",
    "#         t  y  x\n",
    "spoint = (0, 1, 0)\n",
    "epoint = (0, 1, 0.4)\n",
    "aline(spoint, epoint, pixel)\n",
    "\n",
    "spoint = (0, 3, 10)\n",
    "epoint = (0, 3, 9.5)\n",
    "aline(spoint, epoint, pixel)\n",
    "\n",
    "np.set_printoptions(threshold=np.nan, linewidth=140, precision=4, suppress=True)\n",
    "print(picture)"
   ]
  },
  {
   "cell_type": "code",
   "execution_count": null,
   "metadata": {
    "collapsed": false
   },
   "outputs": [],
   "source": [
    "int(np.round(2.555))"
   ]
  },
  {
   "cell_type": "code",
   "execution_count": null,
   "metadata": {
    "collapsed": false
   },
   "outputs": [],
   "source": [
    "from pprint import pprint\n",
    "\n",
    "p = (1,4,3)\n",
    "shp = (4,4,4)\n",
    "\n",
    "pprint(min([a-b for a,b in zip(shp, p)]) > 0)"
   ]
  }
 ],
 "metadata": {
  "kernelspec": {
   "display_name": "Python 3",
   "language": "python",
   "name": "python3"
  },
  "language_info": {
   "codemirror_mode": {
    "name": "ipython",
    "version": 3
   },
   "file_extension": ".py",
   "mimetype": "text/x-python",
   "name": "python",
   "nbconvert_exporter": "python",
   "pygments_lexer": "ipython3",
   "version": "3.5.3"
  }
 },
 "nbformat": 4,
 "nbformat_minor": 2
}
